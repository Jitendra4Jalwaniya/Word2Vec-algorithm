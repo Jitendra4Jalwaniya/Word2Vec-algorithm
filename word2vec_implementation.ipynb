{
  "nbformat": 4,
  "nbformat_minor": 0,
  "metadata": {
    "colab": {
      "name": "word2vec implementation.ipynb",
      "provenance": [],
      "collapsed_sections": [],
      "authorship_tag": "ABX9TyMerHouKbcFOj4t4UoNmzvR",
      "include_colab_link": true
    },
    "kernelspec": {
      "name": "python3",
      "display_name": "Python 3"
    },
    "language_info": {
      "name": "python"
    }
  },
  "cells": [
    {
      "cell_type": "markdown",
      "metadata": {
        "id": "view-in-github",
        "colab_type": "text"
      },
      "source": [
        "<a href=\"https://colab.research.google.com/github/Jitendra4Jalwaniya/Word2Vec-algorithm/blob/main/word2vec_implementation.ipynb\" target=\"_parent\"><img src=\"https://colab.research.google.com/assets/colab-badge.svg\" alt=\"Open In Colab\"/></a>"
      ]
    },
    {
      "cell_type": "code",
      "metadata": {
        "id": "CUgFhs560Tly"
      },
      "source": [
        "# defining a small corpus\n",
        "\n",
        "corpus = [\n",
        "    'he is a king',\n",
        "    'she is a queen',\n",
        "    'he is a man',\n",
        "    'she is a woman',\n",
        "    'warsaw is poland capital',\n",
        "    'berlin is germany capital',\n",
        "    'paris is france capital',\n",
        "]"
      ],
      "execution_count": 23,
      "outputs": []
    },
    {
      "cell_type": "code",
      "metadata": {
        "colab": {
          "base_uri": "https://localhost:8080/"
        },
        "id": "_5RIZW3V0hMR",
        "outputId": "ab2e1e0c-d011-4854-ac55-a3095f115340"
      },
      "source": [
        "# creating a vocabulary\n",
        "\n",
        "def tokenize_corpus(corpus):\n",
        "    tokens = [x.split() for x in corpus]\n",
        "    return tokens\n",
        "\n",
        "tokenized_corpus = tokenize_corpus(corpus)\n",
        "tokenized_corpus"
      ],
      "execution_count": 24,
      "outputs": [
        {
          "output_type": "execute_result",
          "data": {
            "text/plain": [
              "[['he', 'is', 'a', 'king'],\n",
              " ['she', 'is', 'a', 'queen'],\n",
              " ['he', 'is', 'a', 'man'],\n",
              " ['she', 'is', 'a', 'woman'],\n",
              " ['warsaw', 'is', 'poland', 'capital'],\n",
              " ['berlin', 'is', 'germany', 'capital'],\n",
              " ['paris', 'is', 'france', 'capital']]"
            ]
          },
          "metadata": {},
          "execution_count": 24
        }
      ]
    },
    {
      "cell_type": "code",
      "metadata": {
        "colab": {
          "base_uri": "https://localhost:8080/"
        },
        "id": "WV6Wizmq0uZI",
        "outputId": "b9b375a9-f680-4f7b-809d-e6a1111c60b4"
      },
      "source": [
        "vocabulary = []\n",
        "\n",
        "for sentence in tokenized_corpus:\n",
        "  for token in sentence:\n",
        "    if token not in vocabulary:\n",
        "      vocabulary.append(token)\n",
        "\n",
        "word2idx = {w: idx for (idx,w) in enumerate(vocabulary)}\n",
        "idx2word = {idx:w for (idx,w) in enumerate(vocabulary)}\n",
        "\n",
        "vocabulary_size = len(vocabulary)\n",
        "\n",
        "print(idx2word)"
      ],
      "execution_count": 25,
      "outputs": [
        {
          "output_type": "stream",
          "name": "stdout",
          "text": [
            "{0: 'he', 1: 'is', 2: 'a', 3: 'king', 4: 'she', 5: 'queen', 6: 'man', 7: 'woman', 8: 'warsaw', 9: 'poland', 10: 'capital', 11: 'berlin', 12: 'germany', 13: 'paris', 14: 'france'}\n"
          ]
        }
      ]
    },
    {
      "cell_type": "code",
      "metadata": {
        "colab": {
          "base_uri": "https://localhost:8080/"
        },
        "id": "cFnsoZrX1smj",
        "outputId": "9be16fde-6c5c-456b-fed9-cdfde4518da4"
      },
      "source": [
        "# lets generate (center word, context word) pairs\n",
        "# context window = 2\n",
        "\n",
        "import numpy as np\n",
        "window_size = 2\n",
        "idx_pairs = []\n",
        "\n",
        "# for each sentence\n",
        "for sentence in tokenized_corpus:\n",
        "  indices = [word2idx[word] for word in sentence]\n",
        "  for center_word_pos in range(len(indices)):\n",
        "    for w in range(-window_size,window_size +1):\n",
        "      context_word_pos = center_word_pos + w\n",
        "      if context_word_pos<0 or context_word_pos>=len(indices) or center_word_pos==context_word_pos:\n",
        "        continue\n",
        "      context_word_idx=indices[context_word_pos]\n",
        "      idx_pairs.append((indices[center_word_pos],context_word_idx))\n",
        "\n",
        "idx_pairs=np.array(idx_pairs)\n",
        "idx_pairs"
      ],
      "execution_count": 26,
      "outputs": [
        {
          "output_type": "execute_result",
          "data": {
            "text/plain": [
              "array([[ 0,  1],\n",
              "       [ 0,  2],\n",
              "       [ 1,  0],\n",
              "       [ 1,  2],\n",
              "       [ 1,  3],\n",
              "       [ 2,  0],\n",
              "       [ 2,  1],\n",
              "       [ 2,  3],\n",
              "       [ 3,  1],\n",
              "       [ 3,  2],\n",
              "       [ 4,  1],\n",
              "       [ 4,  2],\n",
              "       [ 1,  4],\n",
              "       [ 1,  2],\n",
              "       [ 1,  5],\n",
              "       [ 2,  4],\n",
              "       [ 2,  1],\n",
              "       [ 2,  5],\n",
              "       [ 5,  1],\n",
              "       [ 5,  2],\n",
              "       [ 0,  1],\n",
              "       [ 0,  2],\n",
              "       [ 1,  0],\n",
              "       [ 1,  2],\n",
              "       [ 1,  6],\n",
              "       [ 2,  0],\n",
              "       [ 2,  1],\n",
              "       [ 2,  6],\n",
              "       [ 6,  1],\n",
              "       [ 6,  2],\n",
              "       [ 4,  1],\n",
              "       [ 4,  2],\n",
              "       [ 1,  4],\n",
              "       [ 1,  2],\n",
              "       [ 1,  7],\n",
              "       [ 2,  4],\n",
              "       [ 2,  1],\n",
              "       [ 2,  7],\n",
              "       [ 7,  1],\n",
              "       [ 7,  2],\n",
              "       [ 8,  1],\n",
              "       [ 8,  9],\n",
              "       [ 1,  8],\n",
              "       [ 1,  9],\n",
              "       [ 1, 10],\n",
              "       [ 9,  8],\n",
              "       [ 9,  1],\n",
              "       [ 9, 10],\n",
              "       [10,  1],\n",
              "       [10,  9],\n",
              "       [11,  1],\n",
              "       [11, 12],\n",
              "       [ 1, 11],\n",
              "       [ 1, 12],\n",
              "       [ 1, 10],\n",
              "       [12, 11],\n",
              "       [12,  1],\n",
              "       [12, 10],\n",
              "       [10,  1],\n",
              "       [10, 12],\n",
              "       [13,  1],\n",
              "       [13, 14],\n",
              "       [ 1, 13],\n",
              "       [ 1, 14],\n",
              "       [ 1, 10],\n",
              "       [14, 13],\n",
              "       [14,  1],\n",
              "       [14, 10],\n",
              "       [10,  1],\n",
              "       [10, 14]])"
            ]
          },
          "metadata": {},
          "execution_count": 26
        }
      ]
    },
    {
      "cell_type": "code",
      "metadata": {
        "id": "GfxN6Wxk48EM"
      },
      "source": [
        "import torch\n",
        "import torch.nn.functional as F\n",
        "from torch.autograd import Variable"
      ],
      "execution_count": 27,
      "outputs": []
    },
    {
      "cell_type": "code",
      "metadata": {
        "id": "Qwkf89RGDroh"
      },
      "source": [
        "# lets define the input layer using one-hot representation\n",
        "\n",
        "def get_input_layer(word_idx):\n",
        "  x=torch.zeros(vocabulary_size).float()\n",
        "  return x"
      ],
      "execution_count": 28,
      "outputs": []
    },
    {
      "cell_type": "code",
      "metadata": {
        "colab": {
          "base_uri": "https://localhost:8080/"
        },
        "id": "weVz_iapFZ-I",
        "outputId": "23fff70f-d743-4d08-b814-fad9f4c20611"
      },
      "source": [
        "# training loop\n",
        "\n",
        "embedding_dims = 5\n",
        "W1 = Variable(torch.randn(embedding_dims, vocabulary_size).float(), requires_grad=True)\n",
        "W2 = Variable(torch.randn(vocabulary_size, embedding_dims).float(), requires_grad=True)\n",
        "num_epochs = 100\n",
        "learning_rate = 0.001\n",
        "\n",
        "for epo in range(num_epochs):\n",
        "    loss_val = 0\n",
        "    for data, target in idx_pairs:\n",
        "        x = Variable(get_input_layer(data)).float()\n",
        "        y_true = Variable(torch.from_numpy(np.array([target])).long())\n",
        "\n",
        "        z1 = torch.matmul(W1, x)\n",
        "        z2 = torch.matmul(W2, z1)\n",
        "    \n",
        "        log_softmax = F.log_softmax(z2, dim=0)\n",
        "\n",
        "        loss = F.nll_loss(log_softmax.view(1,-1), y_true)\n",
        "        loss_val += loss.data\n",
        "        loss.backward()\n",
        "        W1.data -= learning_rate * W1.grad.data\n",
        "        W2.data -= learning_rate * W2.grad.data\n",
        "\n",
        "        W1.grad.data.zero_()\n",
        "        W2.grad.data.zero_()\n",
        "    if epo % 10 == 0:    \n",
        "        print(f'Loss at epo {epo}: {loss_val/len(idx_pairs)}')"
      ],
      "execution_count": 29,
      "outputs": [
        {
          "output_type": "stream",
          "name": "stdout",
          "text": [
            "Loss at epo 0: 2.708052396774292\n",
            "Loss at epo 10: 2.708052396774292\n",
            "Loss at epo 20: 2.708052396774292\n",
            "Loss at epo 30: 2.708052396774292\n",
            "Loss at epo 40: 2.708052396774292\n",
            "Loss at epo 50: 2.708052396774292\n",
            "Loss at epo 60: 2.708052396774292\n",
            "Loss at epo 70: 2.708052396774292\n",
            "Loss at epo 80: 2.708052396774292\n",
            "Loss at epo 90: 2.708052396774292\n"
          ]
        }
      ]
    },
    {
      "cell_type": "code",
      "metadata": {
        "id": "BSaHMneiJKBv"
      },
      "source": [
        "import seaborn as sns # for data visualization\n",
        "import pandas as pd # for data analysis\n",
        "import numpy as np # for numeric calculation\n",
        "import matplotlib.pyplot as plt # for data visualization"
      ],
      "execution_count": 34,
      "outputs": []
    },
    {
      "cell_type": "code",
      "metadata": {
        "id": "MmodHJspgB6C"
      },
      "source": [
        "ww1 = W1.cpu().detach().numpy()\n",
        "ww2 = W2.cpu().detach().numpy()"
      ],
      "execution_count": 37,
      "outputs": []
    },
    {
      "cell_type": "code",
      "metadata": {
        "colab": {
          "base_uri": "https://localhost:8080/",
          "height": 283
        },
        "id": "38URfY9cg02h",
        "outputId": "4cb8c7d1-9013-4a36-f04d-3eb2b02af40d"
      },
      "source": [
        "sns.heatmap(ww1)"
      ],
      "execution_count": 39,
      "outputs": [
        {
          "output_type": "execute_result",
          "data": {
            "text/plain": [
              "<matplotlib.axes._subplots.AxesSubplot at 0x7efc4d4207d0>"
            ]
          },
          "metadata": {},
          "execution_count": 39
        },
        {
          "output_type": "display_data",
          "data": {
            "image/png": "[encoded data removed]",
            "text/plain": [
              "<Figure size 432x288 with 2 Axes>"
            ]
          },
          "metadata": {
            "needs_background": "light"
          }
        }
      ]
    },
    {
      "cell_type": "code",
      "metadata": {
        "colab": {
          "base_uri": "https://localhost:8080/",
          "height": 283
        },
        "id": "XG5S6AjYh2zV",
        "outputId": "5d8c0537-0696-4cf8-b5af-6ed0f0060346"
      },
      "source": [
        "sns.heatmap(ww2)"
      ],
      "execution_count": 40,
      "outputs": [
        {
          "output_type": "execute_result",
          "data": {
            "text/plain": [
              "<matplotlib.axes._subplots.AxesSubplot at 0x7efc444bbe10>"
            ]
          },
          "metadata": {},
          "execution_count": 40
        },
        {
          "output_type": "display_data",
          "data": {
            "image/png": "[encoded data removed]",
            "text/plain": [
              "<Figure size 432x288 with 2 Axes>"
            ]
          },
          "metadata": {
            "needs_background": "light"
          }
        }
      ]
    },
    {
      "cell_type": "code",
      "metadata": {
        "id": "_10CK6fph50w"
      },
      "source": [
        ""
      ],
      "execution_count": null,
      "outputs": []
    }
  ]
}